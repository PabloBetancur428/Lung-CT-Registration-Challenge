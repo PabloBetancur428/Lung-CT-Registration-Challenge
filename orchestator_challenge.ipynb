{
 "cells": [
  {
   "cell_type": "markdown",
   "metadata": {},
   "source": [
    "# Code to orchestrate the whole process"
   ]
  },
  {
   "cell_type": "code",
   "execution_count": 1,
   "metadata": {},
   "outputs": [],
   "source": [
    "import a_registration as a\n",
    "import b_points as b\n",
    "import c_TRE as c"
   ]
  },
  {
   "cell_type": "markdown",
   "metadata": {},
   "source": [
    "# Register the images"
   ]
  },
  {
   "cell_type": "code",
   "execution_count": 8,
   "metadata": {},
   "outputs": [
    {
     "name": "stdout",
     "output_type": "stream",
     "text": [
      "Running elastix: C:/Users/User/Desktop/UDG_old_pc/UDG/Subjects/MIRRRRA/Labs/ATLAS/elastix-5.0.0-win64/elastix.exe -f C:/Users/User/Desktop/challenge_mira/Prueba_1/img_7/copd7_iBHCT.nii.gz -m C:/Users/User/Desktop/challenge_mira/Prueba_1/img_7/copd7_eBHCT.nii.gz -fMask C:/Users/User/Desktop/challenge_mira/Prueba_1/img_7/copd7_mask_iBHCT_jj.nii -mMask C:/Users/User/Desktop/challenge_mira/Prueba_1/img_7/copd7_mask_eBHCT_jj.nii -out C:/Users/User/Desktop/UDG_old_pc/UDG/Subjects/MIRRRRA/Final_project/training_pruebas_trans -p C:/Users/User/Desktop/challenge_mira/Parameters/Parameters_BSpline_changes.txt\n",
      "Elastix registration completed.\n",
      "Running transformix: C:/Users/User/Desktop/UDG_old_pc/UDG/Subjects/MIRRRRA/Labs/ATLAS/elastix-5.0.0-win64/transformix.exe -def C:/Users/User/Desktop/UDG_old_pc/UDG/Subjects/MIRRRRA/Final_project/training_pruebas_trans/fixed_landmarks_7.txt -tp C:/Users/User/Desktop/UDG_old_pc/UDG/Subjects/MIRRRRA/Final_project/training_pruebas_trans\\TransformParameters.0.txt -out C:/Users/User/Desktop/UDG_old_pc/UDG/Subjects/MIRRRRA/Final_project/training_pruebas_trans\\transformed_points\n",
      "Transformix point transformation completed.\n",
      "Transform done for patient 7\n"
     ]
    }
   ],
   "source": [
    "val = 7\n",
    "a.main(val=val)"
   ]
  },
  {
   "cell_type": "markdown",
   "metadata": {},
   "source": [
    "# Extract and convert points to correct format"
   ]
  },
  {
   "cell_type": "code",
   "execution_count": 3,
   "metadata": {},
   "outputs": [
    {
     "name": "stdout",
     "output_type": "stream",
     "text": [
      "Extracted points saved to C:/Users/User/Desktop/UDG_old_pc/UDG/Subjects/MIRRRRA/Final_project/training_pruebas_trans/transformed_points/outputpoints_7_conchallenge1.txt\n"
     ]
    }
   ],
   "source": [
    "val=7\n",
    "output_points_file = fr\"C:\\Users\\User\\Desktop\\UDG_old_pc\\UDG\\Subjects\\MIRRRRA\\Final_project\\training_pruebas_trans\\transformed_points\\outputpoints.txt\".replace(\"\\\\\", \"/\")\n",
    "output_xyz_file = fr\"C:/Users/User/Desktop/UDG_old_pc/UDG/Subjects/MIRRRRA/Final_project/training_pruebas_trans/transformed_points/outputpoints_{val}_conchallenge1.txt\".replace(\"\\\\\", \"/\")\n",
    "b.extract_output_points(output_points_file, output_xyz_file)"
   ]
  },
  {
   "cell_type": "markdown",
   "metadata": {},
   "source": [
    "#   Optional Compute TRE"
   ]
  },
  {
   "cell_type": "code",
   "execution_count": 4,
   "metadata": {},
   "outputs": [
    {
     "name": "stdout",
     "output_type": "stream",
     "text": [
      "The file to retrieve for the challenge is in: C:/Users/User/Desktop/UDG_old_pc/UDG/Subjects/MIRRRRA/Final_project/training_pruebas_trans/transformed_points/outputpoints_5_conchallenge1.txt\n",
      "Mean TRE: 0.9867 mm for copd5\n",
      "\n",
      "\n"
     ]
    }
   ],
   "source": [
    "\n",
    "# #Set voxel spacing according to images\n",
    "# #voxel_spacing_vals = [0, 0, 0, 0, [0.625, 0.625, 2.5], [0.645, 0.645, 2.5], [0.652, 0.652, 2.5], [0.590, 0.590, 2.5]\n",
    "# #-------------------------------------------------------------------\n",
    "# #Descomentar la siguiente si se tienen exhale\n",
    "# #-------------------------------------------------------------------\n",
    "# landmarks_fix_path = fr\"C:\\Users\\User\\Desktop\\UDG_old_pc\\UDG\\Subjects\\MIRRRRA\\Final_project\\Training data-20241123\\copd{1}\\copd{1}\\copd{1}_300_eBH_xyz_r1.txt\".replace(\"\\\\\",\"/\")\n",
    "# #-------------------------------------------------------------------\n",
    "# #Descomentar la siguiente línea si queremos ver displacemente\n",
    "# #landmarks_fix_path = fr\"C:\\Users\\User\\Desktop\\challenge_mira\\Prueba_1\\img_{val}\\copd{val}_300_iBH_xyz_r1.txt\".replace(\"\\\\\",\"/\")\n",
    "# #-------------------------------------------------------------------\n",
    "# landmarks_moved_path = fr\"C:/Users/User/Desktop/UDG_old_pc/UDG/Subjects/MIRRRRA/Final_project/training_pruebas_trans/transformed_points/outputpoints_{val}_conchallenge1.txt\".replace(\"\\\\\",\"/\")\n",
    "# print(f\"The file to retrieve for the challenge is in: {landmarks_moved_path}\")\n",
    "# #landmarks_moved_path = fr\"C:\\Users\\User\\Desktop\\challenge_mira\\Prueba_1\\output_landmarks\\transformed_points\\outputpoints_{val}_BSpline_normal.txt\".replace(\"\\\\\", \"/\")\n",
    "\n",
    "# #Load voxel spacing for getting TRE in mm\n",
    "# voxel_spacing = [0.625, 0.625, 2.5] # Put the correct voxel spacing\n",
    "# landmarks_exhale = c.load_landmarks(landmarks_fix_path,voxel_spacing)\n",
    "# landmarks_inhale = c.load_landmarks_afterreg(landmarks_moved_path, voxel_spacing)\n",
    "\n",
    "# tre, mean_tre = c.calculate_tre(landmarks_exhale, landmarks_inhale) \n",
    "# #displacement  = 25.9 #CAMBIAR MAÑANA SI CONOCEMOS EL DISPLACEMENT\n",
    "# #mean_tre= mean_tre-displacement\n",
    "\n",
    "# #print(f\"TRE for each landmark: {tre}\")\n",
    "# print(f\"Mean TRE: {mean_tre:.4f} mm for copd{val}\")\n",
    "# print(\"\\n\")\n"
   ]
  }
 ],
 "metadata": {
  "kernelspec": {
   "display_name": "venv",
   "language": "python",
   "name": "python3"
  },
  "language_info": {
   "codemirror_mode": {
    "name": "ipython",
    "version": 3
   },
   "file_extension": ".py",
   "mimetype": "text/x-python",
   "name": "python",
   "nbconvert_exporter": "python",
   "pygments_lexer": "ipython3",
   "version": "3.11.9"
  }
 },
 "nbformat": 4,
 "nbformat_minor": 2
}
